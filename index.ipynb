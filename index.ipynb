{
 "cells": [
  {
   "cell_type": "markdown",
   "metadata": {},
   "source": [
    "## Feature Scaling and Normalization - Lab"
   ]
  },
  {
   "cell_type": "markdown",
   "metadata": {},
   "source": [
    "## Introduction\n",
    "In this lab, you'll practice your feature scaling and normalization skills!"
   ]
  },
  {
   "cell_type": "markdown",
   "metadata": {},
   "source": [
    "## Objectives\n",
    "You will be able to:\n",
    "* Implement min-max scaling, mean-normalization, log normalization and unit vector normalization in python\n",
    "* Identify appropriate normalization and scaling techniques for given dataset"
   ]
  },
  {
   "cell_type": "markdown",
   "metadata": {},
   "source": [
    "## Back to our Boston Housing data"
   ]
  },
  {
   "cell_type": "markdown",
   "metadata": {},
   "source": [
    "Let's import our Boston Housing data. Remember we categorized two variables and deleted the \"NOX\" (nitride oxide concentration) variable because it was highly correlated with two other features."
   ]
  },
  {
   "cell_type": "code",
   "execution_count": 2,
   "metadata": {},
   "outputs": [],
   "source": [
    "# import pandas as pd\n",
    "# from sklearn.datasets import load_boston\n",
    "# boston = load_boston()\n",
    "\n",
    "import pandas as pd \n",
    "from sklearn.datasets import load_boston\n",
    "boston = load_boston()\n",
    "\n",
    "# boston_features = pd.DataFrame(boston.data, columns = boston.feature_names)\n",
    "boston_features = pd.DataFrame(boston.data, columns = boston.feature_names)\n",
    "\n",
    "# # first, create bins for based on the values observed. \n",
    "#5 values will result in 4 bins\n",
    "# bins = [0, 3, 4 , 5, 24]\n",
    "# bins_rad = pd.cut(boston_features['RAD'], bins)\n",
    "# bins_rad = bins_rad.cat.as_unordered()\n",
    "\n",
    "bins = [0,3,4,5,24]\n",
    "bins_rad = pd.cut(boston_features['RAD'],bins)\n",
    "bins_rad = bins_rad.cat.as_unordered()\n",
    "\n",
    "# # first, create bins for based on the values observed. 5 values will result in 4 bins\n",
    "# bins = [0, 250, 300, 360, 460, 712]\n",
    "# bins_tax = pd.cut(boston_features['TAX'], bins)\n",
    "# bins_tax = bins_tax.cat.as_unordered()\n",
    "\n",
    "bins = [0,250,300,360,460,712]\n",
    "bins_tax = pd.cut(boston_features['TAX'],bins)\n",
    "bins_tax = bins_tax.cat.as_unordered()\n",
    "\n",
    "# tax_dummy = pd.get_dummies(bins_tax, prefix=\"TAX\")\n",
    "# rad_dummy = pd.get_dummies(bins_rad, prefix=\"RAD\")\n",
    "# boston_features = boston_features.drop([\"RAD\",\"TAX\"], axis=1)\n",
    "# boston_features = pd.concat([boston_features, rad_dummy, tax_dummy], axis=1)\n",
    "# boston_features = boston_features.drop(\"NOX\",axis=1)\n",
    "\n",
    "tax_dummy = pd.get_dummies(bins_tax, prefix=\"TAX\")\n",
    "rad_dummy = pd.get_dummies(bins_rad, prefix=\"RAD\")\n",
    "boston_features = boston_features.drop([\"RAD\",\"TAX\"], axis=1)\n",
    "boston_features = pd.concat([boston_features, rad_dummy, tax_dummy], axis=1)\n",
    "boston_features = boston_features.drop(\"NOX\",axis=1)"
   ]
  },
  {
   "cell_type": "markdown",
   "metadata": {},
   "source": [
    "## Look at the histograms for the continuous variables"
   ]
  },
  {
   "cell_type": "code",
   "execution_count": 3,
   "metadata": {},
   "outputs": [
    {
     "data": {
      "text/plain": [
       "Index(['CRIM', 'ZN', 'INDUS', 'CHAS', 'RM', 'AGE', 'DIS', 'PTRATIO', 'B',\n",
       "       'LSTAT', 'RAD_(0, 3]', 'RAD_(3, 4]', 'RAD_(4, 5]', 'RAD_(5, 24]',\n",
       "       'TAX_(0, 250]', 'TAX_(250, 300]', 'TAX_(300, 360]', 'TAX_(360, 460]',\n",
       "       'TAX_(460, 712]'],\n",
       "      dtype='object')"
      ]
     },
     "execution_count": 3,
     "metadata": {},
     "output_type": "execute_result"
    }
   ],
   "source": [
    "import pandas as pd \n",
    "boston_features.columns"
   ]
  },
  {
   "cell_type": "code",
   "execution_count": 4,
   "metadata": {},
   "outputs": [],
   "source": [
    "df= boston_features\n",
    "boston_cont = df[df.columns.drop(list(df.filter(regex='TAX')))]\n",
    "boston_cont = boston_cont[boston_cont.columns.drop(list(boston_cont.filter(regex='RAD')))]\n",
    "boston_cont= boston_cont.drop(['CHAS'], axis=1)"
   ]
  },
  {
   "cell_type": "code",
   "execution_count": 5,
   "metadata": {},
   "outputs": [],
   "source": [
    "boston_cont[[\"CRIM\", \"ZN\", \"INDUS\", \"RM\", \"AGE\", \n",
    "                \"DIS\", \"PTRATIO\", \"B\", \"LSTAT\"]].hist(figsize =[10,10]);"
   ]
  },
  {
   "cell_type": "markdown",
   "metadata": {},
   "source": [
    "## Perform log transformations for the variables where it makes sense"
   ]
  },
  {
   "cell_type": "markdown",
   "metadata": {},
   "source": [
    "Analyze the results in terms of how they improved the normality performance. What is the problem with the \"ZN\" variable?  "
   ]
  },
  {
   "cell_type": "code",
   "execution_count": 9,
   "metadata": {},
   "outputs": [
    {
     "data": {
      "text/plain": [
       "Series([], dtype: float64)"
      ]
     },
     "execution_count": 9,
     "metadata": {},
     "output_type": "execute_result"
    }
   ],
   "source": [
    "null_columns=boston_cont.columns[boston_cont.isnull().any()]\n",
    "boston_cont[null_columns].isnull().sum()"
   ]
  },
  {
   "cell_type": "code",
   "execution_count": 10,
   "metadata": {},
   "outputs": [],
   "source": [
    "import numpy as np\n",
    "data_log = pd.DataFrame([])\n",
    "data_log[\"logcrim\"] = np.log(boston_cont[\"CRIM\"])\n",
    "#data_log[\"logzn\"] = np.log(boston_cont[\"ZN\"])\n",
    "data_log[\"logindus\"] = np.log(boston_cont[\"INDUS\"])\n",
    "data_log[\"logage\"] = np.log(boston_cont[\"AGE\"])\n",
    "data_log[\"logdis\"] = np.log(boston_cont[\"DIS\"])\n",
    "data_log[\"logptratio\"] = np.log(boston_cont[\"PTRATIO\"])\n",
    "data_log[\"logb\"] = np.log(boston_cont[\"B\"])\n",
    "data_log[\"loglstat\"] = np.log(boston_cont[\"LSTAT\"])"
   ]
  },
  {
   "cell_type": "code",
   "execution_count": 11,
   "metadata": {},
   "outputs": [
    {
     "data": {
      "image/png": "[encoded data removed]",
      "text/plain": [
       "<Figure size 720x720 with 9 Axes>"
      ]
     },
     "metadata": {
      "needs_background": "light"
     },
     "output_type": "display_data"
    }
   ],
   "source": [
    "data_log.hist(figsize = [10, 10]);"
   ]
  },
  {
   "cell_type": "code",
   "execution_count": 12,
   "metadata": {},
   "outputs": [
    {
     "name": "stdout",
     "output_type": "stream",
     "text": [
      "<class 'pandas.core.frame.DataFrame'>\n",
      "RangeIndex: 506 entries, 0 to 505\n",
      "Data columns (total 19 columns):\n",
      "CRIM              506 non-null float64\n",
      "ZN                506 non-null float64\n",
      "INDUS             506 non-null float64\n",
      "CHAS              506 non-null float64\n",
      "RM                506 non-null float64\n",
      "AGE               506 non-null float64\n",
      "DIS               506 non-null float64\n",
      "PTRATIO           506 non-null float64\n",
      "B                 506 non-null float64\n",
      "LSTAT             506 non-null float64\n",
      "RAD_(0, 3]        506 non-null uint8\n",
      "RAD_(3, 4]        506 non-null uint8\n",
      "RAD_(4, 5]        506 non-null uint8\n",
      "RAD_(5, 24]       506 non-null uint8\n",
      "TAX_(0, 250]      506 non-null uint8\n",
      "TAX_(250, 300]    506 non-null uint8\n",
      "TAX_(300, 360]    506 non-null uint8\n",
      "TAX_(360, 460]    506 non-null uint8\n",
      "TAX_(460, 712]    506 non-null uint8\n",
      "dtypes: float64(10), uint8(9)\n",
      "memory usage: 44.1 KB\n"
     ]
    }
   ],
   "source": [
    "boston_features.info()"
   ]
  },
  {
   "cell_type": "markdown",
   "metadata": {},
   "source": [
    "\"ZN\" has a lot of zeros (more than 50%!). Remember that this variable denoted: \"proportion of residential land zoned for lots over 25,000 sq.ft.\". It might have made sense to categorize this variable to \"over 25,000 feet or not (binary variable 1/0). Now you have a zero-inflated variable which is cumbersome to work with."
   ]
  },
  {
   "cell_type": "markdown",
   "metadata": {},
   "source": [
    "## Try different types of transformations on the continuous variables"
   ]
  },
  {
   "cell_type": "markdown",
   "metadata": {},
   "source": [
    "Store your final features in a dataframe `features_final`"
   ]
  },
  {
   "cell_type": "code",
   "execution_count": null,
   "metadata": {},
   "outputs": [],
   "source": []
  },
  {
   "cell_type": "markdown",
   "metadata": {},
   "source": [
    "## Summary\n",
    "Great! You've now transformed your final data using feature scaling and normalization, and stored them in the `features_final` dataframe."
   ]
  }
 ],
 "metadata": {
  "kernelspec": {
   "display_name": "Python 3",
   "language": "python",
   "name": "python3"
  },
  "language_info": {
   "codemirror_mode": {
    "name": "ipython",
    "version": 3
   },
   "file_extension": ".py",
   "mimetype": "text/x-python",
   "name": "python",
   "nbconvert_exporter": "python",
   "pygments_lexer": "ipython3",
   "version": "3.6.6"
  }
 },
 "nbformat": 4,
 "nbformat_minor": 2
}
